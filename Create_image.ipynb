{
 "cells": [
  {
   "cell_type": "code",
   "execution_count": 1,
   "id": "25479771",
   "metadata": {},
   "outputs": [],
   "source": [
    "import cv2\n",
    "import numpy as np"
   ]
  },
  {
   "cell_type": "code",
   "execution_count": 2,
   "id": "2423e2e2",
   "metadata": {},
   "outputs": [],
   "source": [
    "## Creating blank image with numpy array\n",
    "\n",
    "img = np.zeros((800,1000,3))\n",
    "\n",
    "## open cv data type\n",
    "img = img.astype(np.uint8)\n"
   ]
  },
  {
   "cell_type": "code",
   "execution_count": 3,
   "id": "21e14428",
   "metadata": {},
   "outputs": [],
   "source": [
    "## setting white background\n",
    "img[:,:] = [255,255,255]\n",
    "\n",
    "##first row\n",
    "img[0:200,0:200] = [255,0,255]\n",
    "img[200:400,200:400]= [255,255,0]\n",
    "img[0:200,400:600]= [0,255,0]\n",
    "\n",
    "## second row\n",
    "img[200:400,600:800]= [255,0,0]\n",
    "img[0:200,800:1000]= [0,0,255]\n",
    "\n",
    "## Third row\n",
    "img[400:600,0:200]= [78,196,94]\n",
    "img[400:600,400:600]= [241,15,136]\n",
    "img[400:600,800:1000]= [2,251,255]\n",
    "\n",
    "\n",
    "#last row\n",
    "img[600:,200:400]= [2,93,252]\n",
    "img[600:,600:800]= [87,6,79]"
   ]
  },
  {
   "cell_type": "code",
   "execution_count": 4,
   "id": "7f51ebcc",
   "metadata": {},
   "outputs": [],
   "source": [
    "## showing image\n",
    "cv2.imshow(\"image\",img)\n",
    "cv2.waitKey()\n",
    "cv2.destroyAllWindows()"
   ]
  },
  {
   "cell_type": "code",
   "execution_count": 5,
   "id": "d64756ae",
   "metadata": {},
   "outputs": [
    {
     "data": {
      "text/plain": [
       "True"
      ]
     },
     "execution_count": 5,
     "metadata": {},
     "output_type": "execute_result"
    }
   ],
   "source": [
    "# Saving image\n",
    "cv2.imwrite(\"Created_img.png\",img)"
   ]
  }
 ],
 "metadata": {
  "kernelspec": {
   "display_name": "Python 3",
   "language": "python",
   "name": "python3"
  },
  "language_info": {
   "codemirror_mode": {
    "name": "ipython",
    "version": 3
   },
   "file_extension": ".py",
   "mimetype": "text/x-python",
   "name": "python",
   "nbconvert_exporter": "python",
   "pygments_lexer": "ipython3",
   "version": "3.8.8"
  }
 },
 "nbformat": 4,
 "nbformat_minor": 5
}
