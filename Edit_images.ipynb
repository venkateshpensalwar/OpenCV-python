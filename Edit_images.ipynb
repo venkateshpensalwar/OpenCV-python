{
 "cells": [
  {
   "cell_type": "code",
   "execution_count": null,
   "id": "59d0ecf5",
   "metadata": {},
   "outputs": [],
   "source": [
    "import cv2\n",
    "import numpy"
   ]
  },
  {
   "cell_type": "code",
   "execution_count": null,
   "id": "7f72f98e",
   "metadata": {},
   "outputs": [],
   "source": [
    "image = cv2.imread(\"pk.jpg\")"
   ]
  },
  {
   "cell_type": "code",
   "execution_count": null,
   "id": "1c8216d6",
   "metadata": {},
   "outputs": [],
   "source": [
    "## it will show image in original size\n",
    "cv2.imshow(\"image\",image)\n",
    "cv2.waitKey()\n",
    "cv2.destroyAllWindows()"
   ]
  },
  {
   "cell_type": "code",
   "execution_count": null,
   "id": "c145b547",
   "metadata": {},
   "outputs": [],
   "source": [
    "# it is a 3d array, image is always a 3d array\n",
    "image.shape"
   ]
  },
  {
   "cell_type": "markdown",
   "id": "d9703dba",
   "metadata": {},
   "source": [
    " #### Croping images"
   ]
  },
  {
   "cell_type": "code",
   "execution_count": null,
   "id": "59c1a595",
   "metadata": {},
   "outputs": [],
   "source": [
    "# cropping images, images array [row,column]\n",
    "crop = image[500:1500, 500:1500]"
   ]
  },
  {
   "cell_type": "code",
   "execution_count": null,
   "id": "f0a12cd2",
   "metadata": {},
   "outputs": [],
   "source": [
    "crop.shape"
   ]
  },
  {
   "cell_type": "code",
   "execution_count": null,
   "id": "623bce19",
   "metadata": {},
   "outputs": [],
   "source": [
    "## it will show image cropped photo \n",
    "cv2.imshow(\"image\",crop)\n",
    "cv2.waitKey()\n",
    "cv2.destroyAllWindows()"
   ]
  },
  {
   "cell_type": "markdown",
   "id": "7f613801",
   "metadata": {},
   "source": [
    "#### convert images into gray color images"
   ]
  },
  {
   "cell_type": "code",
   "execution_count": null,
   "id": "fbf5a3b6",
   "metadata": {},
   "outputs": [],
   "source": [
    "colored = cv2.cvtColor(crop,cv2.COLOR_BGR2GRAY)\n",
    "cv2.imshow(\"image\",colored)\n",
    "cv2.waitKey()\n",
    "cv2.destroyAllWindows()"
   ]
  },
  {
   "cell_type": "markdown",
   "id": "9a3bac57",
   "metadata": {},
   "source": [
    "#### Convert Video Stream into gray color streaming"
   ]
  },
  {
   "cell_type": "code",
   "execution_count": null,
   "id": "4a1cb03c",
   "metadata": {},
   "outputs": [],
   "source": [
    "cap = cv2.VideoCapture(0)\n",
    "while True:\n",
    "    ret , video = cap.read()\n",
    "    video = cv2.cvtColor(video,cv2.COLOR_BGR2GRAY)\n",
    "    cv2.imshow(\"image\",video)\n",
    "    if cv2.waitKey(20) == 13:\n",
    "        break\n",
    "        \n",
    "cv2.destroyAllWindows()"
   ]
  },
  {
   "cell_type": "code",
   "execution_count": null,
   "id": "22a4c5f5",
   "metadata": {},
   "outputs": [],
   "source": [
    "cap.release()"
   ]
  },
  {
   "cell_type": "markdown",
   "id": "4710eabf",
   "metadata": {},
   "source": [
    "#### In opencv we can also change color "
   ]
  },
  {
   "cell_type": "code",
   "execution_count": null,
   "id": "31139339",
   "metadata": {},
   "outputs": [],
   "source": [
    "# it will change the color of image\n",
    "image[0:500][100:200] = [0,255,255] \n",
    "\n",
    "#image[150] = [255,255,0]   // 150 th row\n",
    "##image[50][150:] = [255,255,0]  // 50th row 150 onwards column\n",
    "cv2.imshow('hi', image)\n",
    "cv2.waitKey(10000)\n",
    "cv2.destroyAllWindows()"
   ]
  },
  {
   "cell_type": "code",
   "execution_count": null,
   "id": "3a7d971b",
   "metadata": {},
   "outputs": [],
   "source": []
  }
 ],
 "metadata": {
  "kernelspec": {
   "display_name": "Python 3",
   "language": "python",
   "name": "python3"
  },
  "language_info": {
   "codemirror_mode": {
    "name": "ipython",
    "version": 3
   },
   "file_extension": ".py",
   "mimetype": "text/x-python",
   "name": "python",
   "nbconvert_exporter": "python",
   "pygments_lexer": "ipython3",
   "version": "3.8.8"
  }
 },
 "nbformat": 4,
 "nbformat_minor": 5
}
